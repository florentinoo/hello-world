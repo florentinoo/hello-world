{
 "cells": [
  {
   "cell_type": "markdown",
   "metadata": {
    "hideCode": true,
    "hidePrompt": true
   },
   "source": [
    "<p class=\"but\">Le but de ce document est de présenter les <span class=\"inline_code\">dictionnaires</span> python.</p>"
   ]
  },
  {
   "cell_type": "markdown",
   "metadata": {
    "hideCode": true,
    "hidePrompt": true,
    "slideshow": {
     "slide_type": "slide"
    }
   },
   "source": [
    "## Définition."
   ]
  },
  {
   "cell_type": "markdown",
   "metadata": {
    "hideCode": true,
    "hidePrompt": true,
    "slideshow": {
     "slide_type": "slide"
    }
   },
   "source": [
    "<p class=\"but1\">Un <span class=\"inline_code\">dictionnaire</span> est une collection non-ordonnée (non indicée) d’objets (simples ou évolués) qui utilise le mécanisme associatif  <span class=\"inline_code\">clef-valeur</span>.</p>"
   ]
  },
  {
   "cell_type": "markdown",
   "metadata": {
    "hideCode": true,
    "hidePrompt": true,
    "slideshow": {
     "slide_type": "notes"
    }
   },
   "source": [
    "Une collection, c'est donc comme une liste mais là, elle n'est pas ordonnée : ça n'a pas de sens de dire qu'un élément est avant un autre puiqu'on va les appeler par leur nom (enfin leur clef !). En pratique :"
   ]
  },
  {
   "cell_type": "markdown",
   "metadata": {
    "hideCode": true,
    "hidePrompt": true,
    "slideshow": {
     "slide_type": "slide"
    }
   },
   "source": [
    "# Les dictionnaires."
   ]
  },
  {
   "cell_type": "code",
   "execution_count": 1,
   "metadata": {
    "hideCode": false,
    "hideOutput": false,
    "hidePrompt": true,
    "slideshow": {
     "slide_type": "slide"
    }
   },
   "outputs": [
    {
     "name": "stdout",
     "output_type": "stream",
     "text": [
      "{'Pierre': 17, 'Paul': 15, 'Jacques': 16}\n"
     ]
    }
   ],
   "source": [
    "#définition d'un dictionnaire\n",
    "age_eleve = {'Pierre':17, 'Paul':15,'Jacques':16}\n",
    "print(age_eleve)"
   ]
  },
  {
   "cell_type": "markdown",
   "metadata": {
    "hideCode": true,
    "hidePrompt": true,
    "slideshow": {
     "slide_type": "slide"
    }
   },
   "source": [
    "<p><span class=inline_code>age_eleve</span> est un dictionnaire, il est délimité par des {}.</p>\n",
    "\n",
    "<span class=inline_code>Pierre</span> est une <span class=inline_code>clef</span> et 17 est la <span class=inline_code>valeur</span> associée à cette <span class=inline_code>clef</span>.</p>"
   ]
  },
  {
   "cell_type": "markdown",
   "metadata": {
    "hideCode": true,
    "hidePrompt": true
   },
   "source": [
    "## Accès à une valeur du dictionnaire à partir d'une clef :"
   ]
  },
  {
   "cell_type": "markdown",
   "metadata": {
    "hideCode": true,
    "hidePrompt": true
   },
   "source": [
    "#Pour connaître l'âge de Pierre on écrit :\n",
    "age_eleve[\"Pierre\"]"
   ]
  },
  {
   "cell_type": "code",
   "execution_count": 2,
   "metadata": {},
   "outputs": [
    {
     "data": {
      "text/plain": [
       "17"
      ]
     },
     "execution_count": 2,
     "metadata": {},
     "output_type": "execute_result"
    }
   ],
   "source": [
    "age_eleve[\"Pierre\"]"
   ]
  },
  {
   "cell_type": "markdown",
   "metadata": {
    "hideCode": true,
    "hidePrompt": true
   },
   "source": [
    "<span class=\"attention\">Remarque</span> : si on oublie les guillemets à \"Pierre\", l'interpréteur en déduit que l'on fait référence à une variable nommée Pierre, et il ne la connaît pas. Normal puisqu'ici, elle n'existe pas."
   ]
  },
  {
   "cell_type": "code",
   "execution_count": 3,
   "metadata": {
    "hideCode": true,
    "hidePrompt": true
   },
   "outputs": [
    {
     "ename": "NameError",
     "evalue": "name 'Pierre' is not defined",
     "output_type": "error",
     "traceback": [
      "\u001b[0;31m---------------------------------------------------------------------------\u001b[0m",
      "\u001b[0;31mNameError\u001b[0m                                 Traceback (most recent call last)",
      "\u001b[0;32m<ipython-input-3-a16dbbe9e18b>\u001b[0m in \u001b[0;36m<module>\u001b[0;34m\u001b[0m\n\u001b[0;32m----> 1\u001b[0;31m \u001b[0mage_eleve\u001b[0m\u001b[0;34m[\u001b[0m\u001b[0mPierre\u001b[0m\u001b[0;34m]\u001b[0m\u001b[0;34m\u001b[0m\u001b[0;34m\u001b[0m\u001b[0m\n\u001b[0m",
      "\u001b[0;31mNameError\u001b[0m: name 'Pierre' is not defined"
     ]
    }
   ],
   "source": [
    "age_eleve[Pierre]"
   ]
  },
  {
   "cell_type": "code",
   "execution_count": 4,
   "metadata": {
    "hideCode": true,
    "hidePrompt": true
   },
   "outputs": [
    {
     "data": {
      "text/plain": [
       "17"
      ]
     },
     "execution_count": 4,
     "metadata": {},
     "output_type": "execute_result"
    }
   ],
   "source": [
    "#Alors que l'on peut utiliser une variable ainsi :\n",
    "nom=\"Pierre\"\n",
    "age_eleve[nom]"
   ]
  },
  {
   "cell_type": "markdown",
   "metadata": {
    "hideCode": true,
    "hidePrompt": true
   },
   "source": [
    "Pour savoir si une clef est présente dans un dictionnaire : on utilise <span class=\"inline_code\">in</span> :"
   ]
  },
  {
   "cell_type": "code",
   "execution_count": 5,
   "metadata": {
    "hideCode": true,
    "hidePrompt": true
   },
   "outputs": [
    {
     "name": "stdout",
     "output_type": "stream",
     "text": [
      "True\n",
      "False\n"
     ]
    }
   ],
   "source": [
    "print(\"Pierre\" in age_eleve)\n",
    "print(\"Steven\" in age_eleve)"
   ]
  },
  {
   "cell_type": "markdown",
   "metadata": {},
   "source": [
    "\n",
    "\n"
   ]
  },
  {
   "cell_type": "markdown",
   "metadata": {
    "hideCode": true,
    "hidePrompt": true
   },
   "source": [
    "## Parcours des valeurs d'un dictionnaire"
   ]
  },
  {
   "cell_type": "markdown",
   "metadata": {
    "hideCode": true,
    "hidePrompt": true
   },
   "source": [
    "Pour énumérer toutes les valeurs d'un dictionnaire, on utilise une boucle après avoir créer un itérateur :  <span class=\"inline_code\">items()</span> de ses éléments :"
   ]
  },
  {
   "cell_type": "code",
   "execution_count": 6,
   "metadata": {
    "hideCode": true,
    "hidePrompt": true
   },
   "outputs": [
    {
     "data": {
      "text/plain": [
       "dict_items([('Pierre', 17), ('Paul', 15), ('Jacques', 16)])"
      ]
     },
     "execution_count": 6,
     "metadata": {},
     "output_type": "execute_result"
    }
   ],
   "source": [
    "# age_eleve.item() est de type dict_item c'est une sorte de liste de tuples (clef,valeur)\n",
    "age_eleve.items()"
   ]
  },
  {
   "cell_type": "code",
   "execution_count": 7,
   "metadata": {
    "hideCode": true,
    "hidePrompt": true
   },
   "outputs": [
    {
     "name": "stdout",
     "output_type": "stream",
     "text": [
      "Pierre\t 17\n",
      "Paul\t 15\n",
      "Jacques\t 16\n"
     ]
    }
   ],
   "source": [
    "#Ce qui donne, avec une boucle for à deux variables clef,valeur :\n",
    "for clef,valeur in age_eleve.items():\n",
    "    print(clef+\"\\t\", valeur) #\\t est une tabulation, pour que les valeurs soient alignées.\n",
    "    "
   ]
  },
  {
   "cell_type": "markdown",
   "metadata": {
    "hideCode": true,
    "hidePrompt": true
   },
   "source": [
    "On aurait pu ne lister que les clefs : "
   ]
  },
  {
   "cell_type": "code",
   "execution_count": 8,
   "metadata": {
    "hideCode": true,
    "hidePrompt": true
   },
   "outputs": [
    {
     "name": "stdout",
     "output_type": "stream",
     "text": [
      "Pierre\n",
      "Paul\n",
      "Jacques\n"
     ]
    }
   ],
   "source": [
    "#liste des clés\n",
    "for clef in age_eleve.keys():\n",
    "    print(clef)"
   ]
  },
  {
   "cell_type": "markdown",
   "metadata": {
    "hideCode": true,
    "hidePrompt": true
   },
   "source": [
    "Ou ne lister que les valeurs : "
   ]
  },
  {
   "cell_type": "code",
   "execution_count": 9,
   "metadata": {
    "hideCode": true,
    "hidePrompt": true
   },
   "outputs": [
    {
     "name": "stdout",
     "output_type": "stream",
     "text": [
      "17\n",
      "15\n",
      "16\n"
     ]
    }
   ],
   "source": [
    "#liste des valeurs :\n",
    "for valeur in age_eleve.values():\n",
    "    print(valeur)"
   ]
  },
  {
   "cell_type": "markdown",
   "metadata": {},
   "source": [
    "<span class=\"attention\">Remarque</span> : si on ne précise pas keys() ou values(), on itère sur les clefs :"
   ]
  },
  {
   "cell_type": "code",
   "execution_count": 10,
   "metadata": {},
   "outputs": [
    {
     "name": "stdout",
     "output_type": "stream",
     "text": [
      "Pierre\n",
      "Paul\n",
      "Jacques\n"
     ]
    }
   ],
   "source": [
    "for element in age_eleve:\n",
    "    print(element)"
   ]
  },
  {
   "cell_type": "markdown",
   "metadata": {
    "hideCode": true,
    "hidePrompt": true
   },
   "source": [
    "<p class=\"exercice\">**Application aux données exif d'une image ** :<br/>\n",
    "Pour consulter les données exif d'une photo on peut utiliser le module exifread qui s'installe en ligne de commande par : \n",
    "$pip3 install exifread.<br/>\n",
    "Les données exif peuvent alors être récupérées sous forme de dictionnaire. Comme dans le code suivant :</p>"
   ]
  },
  {
   "cell_type": "code",
   "execution_count": 8,
   "metadata": {
    "hideCode": true,
    "hidePrompt": true,
    "scrolled": true
   },
   "outputs": [
    {
     "name": "stdout",
     "output_type": "stream",
     "text": [
      "Le repertoire courant est :  /mnt/Datas/00-MATHS/1-LYCEE/01-NSI/DIU-EIL/Module2 \n",
      "\n",
      "                                 RUBRIQUE  |  VALEUR\n",
      "----------------------------------------------------------------------\n",
      "                               Image Make  :  NIKON CORPORATION\n",
      "                              Image Model  :  NIKON D600\n",
      "                        Image Orientation  :  Rotated 90 CW\n",
      "                        Image XResolution  :  300\n",
      "                        Image YResolution  :  300\n",
      "                     Image ResolutionUnit  :  Pixels/Inch\n",
      "                           Image Software  :  Ver.1.00 \n",
      "                           Image DateTime  :  2016:09:01 08:17:04\n",
      "                             Image Artist  :                                      \n",
      "                   Image YCbCrPositioning  :  Co-sited\n",
      "                          Image Copyright  :                     , ... ]\n",
      "                         Image ExifOffset  :  348\n",
      "                         GPS GPSVersionID  :  [2, 3, 0, 0]\n",
      "                            Image GPSInfo  :  35648\n",
      "                    Thumbnail Compression  :  JPEG (old-style)\n",
      "                    Thumbnail XResolution  :  300\n",
      "                    Thumbnail YResolution  :  300\n",
      "                 Thumbnail ResolutionUnit  :  Pixels/Inch\n",
      "          Thumbnail JPEGInterchangeFormat  :  35776\n",
      "    Thumbnail JPEGInterchangeFormatLength  :  8576\n",
      "               Thumbnail YCbCrPositioning  :  Co-sited\n",
      "                        EXIF ExposureTime  :  1/500\n",
      "                             EXIF FNumber  :  7/2\n",
      "                     EXIF ExposureProgram  :  Aperture Priority\n",
      "                     EXIF ISOSpeedRatings  :  400\n",
      "                     EXIF SensitivityType  :  Recommended Exposure Index\n",
      "                         EXIF ExifVersion  :  0230\n",
      "                    EXIF DateTimeOriginal  :  2016:09:01 08:17:04\n",
      "                   EXIF DateTimeDigitized  :  2016:09:01 08:17:04\n",
      "             EXIF ComponentsConfiguration  :  YCbCr\n",
      "              EXIF CompressedBitsPerPixel  :  4\n",
      "                   EXIF ExposureBiasValue  :  0\n",
      "                    EXIF MaxApertureValue  :  2\n",
      "                        EXIF MeteringMode  :  Pattern\n",
      "                         EXIF LightSource  :  Unknown\n",
      "                               EXIF Flash  :  Flash did not fire, compulsory flash mode\n",
      "                         EXIF FocalLength  :  35\n",
      "                           EXIF MakerNote  :  [78, 105, 107, 111, 110, 0, 2, 16, 0, 0, 77, 77, 0, 42, 0, 0, 0, 8, 0, 56, ... ]\n",
      "                         EXIF UserComment  :                                      \n",
      "                          EXIF SubSecTime  :  70\n",
      "                  EXIF SubSecTimeOriginal  :  70\n",
      "                 EXIF SubSecTimeDigitized  :  70\n",
      "                     EXIF FlashPixVersion  :  0100\n",
      "                          EXIF ColorSpace  :  sRGB\n",
      "                      EXIF ExifImageWidth  :  6016\n",
      "                     EXIF ExifImageLength  :  4016\n",
      "   Interoperability InteroperabilityIndex  :  R98\n",
      " Interoperability InteroperabilityVersion  :  [48, 49, 48, 48]\n",
      "              EXIF InteroperabilityOffset  :  35616\n",
      "                       EXIF SensingMethod  :  One-chip color area\n",
      "                          EXIF FileSource  :  Digital Camera\n",
      "                           EXIF SceneType  :  Directly Photographed\n",
      "                          EXIF CVAPattern  :  [0, 2, 0, 2, 0, 1, 1, 2]\n",
      "                      EXIF CustomRendered  :  Normal\n",
      "                        EXIF ExposureMode  :  Auto Exposure\n",
      "                        EXIF WhiteBalance  :  Auto\n",
      "                    EXIF DigitalZoomRatio  :  1\n",
      "               EXIF FocalLengthIn35mmFilm  :  35\n",
      "                    EXIF SceneCaptureType  :  Landscape\n",
      "                         EXIF GainControl  :  Low gain up\n",
      "                            EXIF Contrast  :  Normal\n",
      "                          EXIF Saturation  :  Normal\n",
      "                           EXIF Sharpness  :  Normal\n",
      "                EXIF SubjectDistanceRange  :  0\n",
      "               MakerNote MakernoteVersion  :  0210\n",
      "                     MakerNote ISOSetting  :  [0, 400]\n",
      "                        MakerNote Quality  :  FINE   \n",
      "                   MakerNote Whitebalance  :  AUTO1       \n",
      "                      MakerNote FocusMode  :  AF-S  \n",
      "                   MakerNote FlashSetting  :              \n",
      "                  MakerNote AutoFlashMode  :                     \n",
      "               MakerNote WhiteBalanceBias  :  [0, 0]\n",
      "            MakerNote WhiteBalanceRBCoeff  :  [121/64, 187/128, 1, 1]\n",
      "                   MakerNote ProgramShift  :  0 EV\n",
      "             MakerNote ExposureDifference  :  0 EV\n",
      "                   MakerNote NikonPreview  :  13222\n",
      "              MakerNote FlashCompensation  :  0 EV\n",
      "              MakerNote ISOSpeedRequested  :  [0, 400]\n",
      "         MakerNote PhotoCornerCoordinates  :  [0, 0, 6016, 4016]\n",
      "      MakerNote ExternalFlashExposureComp  :  0 EV\n",
      " MakerNote FlashBracketCompensationApplied  :  0 EV\n",
      "   MakerNote AEBracketCompensationApplied  :  0\n",
      "                    MakerNote CropHiSpeed  :  [0, 6080, 4028, 6080, 4028, 0, 0]\n",
      "                 MakerNote ExposureTuning  :  [0, 1, 6]\n",
      "                   MakerNote SerialNumber  :  6046023\n",
      "                     MakerNote ColorSpace  :  1\n",
      "                         MakerNote VRInfo  :  [48, 49, 48, 48, 2, 2, 0, 0]\n",
      "                MakerNote ActiveDLighting  :  65535\n",
      "                 MakerNote PictureControl  :  [48, 49, 48, 48, 76, 65, 78, 68, 83, 67, 65, 80, 69, 0, 0, 0, 0, 0, 0, 0, ... ]\n",
      "                      MakerNote WorldTime  :  [0, 60, 1, 2]\n",
      "                        MakerNote ISOInfo  :  [84, 1, 12, 0, 0, 0, 84, 1, 12, 0, 0, 0, 0, 0]\n",
      "                     MakerNote Tag 0x002A  :  3\n",
      "                     MakerNote Tag 0x002B  :  [48, 49, 48, 48, 0, 4, 1, 6, 0, 0, 0, 0, 0, 0, 0, 0]\n",
      "                     MakerNote Tag 0x002C  :  [48, 49, 48, 49, 35, 1, 1, 214, 1, 57, 0, 0, 0, 0, 0, 201, 0, 156, 0, 32, ... ]\n",
      "                     MakerNote Tag 0x0032  :  [48, 49, 48, 48, 0, 0, 0, 1]\n",
      "                     MakerNote Tag 0x0035  :  [48, 49, 48, 48, 0, 0, 0, 255]\n",
      "                       MakerNote LensType  :  2\n",
      "     MakerNote LensMinMaxFocalMaxAperture  :  [35, 35, 2, 2]\n",
      "                      MakerNote FlashMode  :  Did Not Fire\n",
      "                 MakerNote BracketingMode  :  Single frame, no bracketing\n",
      "             MakerNote AutoBracketRelease  :  1\n",
      "                     MakerNote LensFStops  :  [84, 1, 12, 0]\n",
      "                       MakerNote ShotInfo  :  []\n",
      "                 MakerNote NoiseReduction  :  OFF \n",
      "                   MakerNote ColorBalance  :  [48, 50, 49, 55, 0, 0, 0, 0, 0, 0, 0, 0, 0, 0, 0, 0, 0, 0, 0, 0, ... ]\n",
      "                       MakerNote LensData  :  [48, 50, 48, 52, 196, 176, 192, 78, 32, 86, 69, 103, 201, 0, 58, 77, 237, 90, 180, 231, 125, 6, 94, 66, 249, 78, 4, 27, 147, 108, 166, 65, 31, 186]\n",
      "                 MakerNote RetouchHistory  :  [0, 0, 0, 0, 0, 0, 0, 0, 0, 0]\n",
      "                  MakerNote ImageDataSize  :  10443734\n",
      "                     MakerNote Tag 0x00A3  :  0\n",
      "           MakerNote TotalShutterReleases  :  16262\n",
      "                      MakerNote FlashInfo  :  [48, 49, 48, 53, 0, 0, 0, 0, 0, 0, 0, 255, 0, 0, 0, 0, 0, 0, 0, 0, 0, 0, 0, 0, 0, 0, 0, 0, 0, 0, 0, 0, 0, 0, 0, 0, 0, 0, 0, 0, 0, 0, 0, 0, 0, 0, 0, 0, 0]\n",
      "             MakerNote DigitalVariProgram  :                 \n",
      "                  MakerNote MultiExposure  :  [48, 49, 48, 48, 0, 0, 0, 0, 0, 0, 0, 0, 0, 0, 0, 0]\n",
      "          MakerNote HighISONoiseReduction  :  4\n",
      "                    MakerNote PowerUpTime  :  [0, 0, 0, 0, 0, 0, 0, 0]\n",
      "                        MakerNote AFInfo2  :  [48, 49, 48, 48, 0, 0, 3, 1, 1, 0, 0, 0, 0, 0, 0, 0, 0, 0, 0, 0, 0, 0, 0, 0, 0, 0, 0, 0, 0, 0]\n",
      "                       MakerNote FileInfo  :  [48, 49, 48, 48, 0, 0, 0, 101, 23, 49, 0, 0, 0, 0, 0, 0, 0, 0, 0, 0, ... ]\n",
      "                         MakerNote AFTune  :  [1, 255, 0, 0]\n",
      "                     MakerNote Tag 0x00BB  :  [48, 50, 48, 48, 255, 255, 255, 0]\n",
      "                     MakerNote Tag 0x00BF  :  0\n"
     ]
    }
   ],
   "source": [
    "import exifread\n",
    "import os\n",
    "print(\"Le repertoire courant est : \", os.getcwd(),'\\n')\n",
    "# Ouverture d'une image pour lecture (en mode binaire)\n",
    "f = open(\"./projet_mot_de_passe/ma_photo.jpg\", 'rb')\n",
    "\n",
    "# Retourne les Exif dans un dictionnaire (variable tags)\n",
    "tags = exifread.process_file(f)\n",
    "print(\" \"*(40-len(\"RUBRIQUE\")),\"RUBRIQUE\",\" | \",\"VALEUR\")\n",
    "print(\"-\"*70)\n",
    "for key, val in tags.items():\n",
    "    if key!=\"JPEGThumbnail\":\n",
    "        compl=40-len(key)\n",
    "        print(\" \"*compl,key,\" : \",val)"
   ]
  },
  {
   "cell_type": "markdown",
   "metadata": {
    "hideCode": true,
    "hidePrompt": true
   },
   "source": [
    "<p class=\"exercice\">**Travail demandé n°1** :<br/>\n",
    "1.Munis-toi d'une photo au format compressé jpeg et place-là dans le même répertoire que ce document sous le nom \"ma_photo.jpg\"<br/>\n",
    "2.A l'aide du code ci-dessus, retrouve et affiche les dates de prise de vue, la largeur et la hauteur, la durée d'exposition, l'ouverture (aperture).</p> "
   ]
  },
  {
   "cell_type": "markdown",
   "metadata": {
    "hideCode": true,
    "hidePrompt": true
   },
   "source": [
    "## Les types de clefs"
   ]
  },
  {
   "cell_type": "markdown",
   "metadata": {
    "hideCode": true,
    "hidePrompt": true
   },
   "source": [
    "Les clefs ne sont pas nécessairement de type <span class=\"inline_code\">string</span> :"
   ]
  },
  {
   "cell_type": "code",
   "execution_count": 13,
   "metadata": {
    "hideCode": true,
    "hidePrompt": true
   },
   "outputs": [],
   "source": [
    "#Des entiers pour les clefs\n",
    "shifumi={1:\"Pierre\",2:\"Feuille\",3:\"Ciseaux\"}"
   ]
  },
  {
   "cell_type": "code",
   "execution_count": 14,
   "metadata": {
    "hideCode": true,
    "hidePrompt": true
   },
   "outputs": [
    {
     "data": {
      "text/plain": [
       "'Ciseaux'"
      ]
     },
     "execution_count": 14,
     "metadata": {},
     "output_type": "execute_result"
    }
   ],
   "source": [
    "from random import randint\n",
    "\n",
    "#On associe ainsi à un tirage aléatoire : pierre, feuille ou ciseaux !\n",
    "shifumi[randint(1,3)]\n"
   ]
  },
  {
   "cell_type": "markdown",
   "metadata": {
    "hideCode": true,
    "hidePrompt": true
   },
   "source": [
    "On peut même utiliser des tuples soit pour la clef, soit pour la valeur, soit pour les deux :"
   ]
  },
  {
   "cell_type": "code",
   "execution_count": 15,
   "metadata": {
    "hideCode": true,
    "hidePrompt": true
   },
   "outputs": [],
   "source": [
    "fiche_adherent={('Pierre',56):(15.4,'à jour de cotisation'),('Lucie',24):(15.1,'à jour de cotisation'),\n",
    "                ('Pierre',22):(2.6,'à jour de cotisation'),('Lucie',3.2e6):('Non Classé', 'cotisation en retard')}"
   ]
  },
  {
   "cell_type": "code",
   "execution_count": 16,
   "metadata": {
    "hideCode": true,
    "hidePrompt": true
   },
   "outputs": [
    {
     "name": "stdout",
     "output_type": "stream",
     "text": [
      "fiche_adherent['Lucie',24][0] renvoie :  15.1\n",
      "\r\n",
      "Fichier des adhérent.e.s :\n",
      "Pierre(56)\t-->\tclassement : 15.4\t cotisation : à jour de cotisation\n",
      "Lucie(24)\t-->\tclassement : 15.1\t cotisation : à jour de cotisation\n",
      "Pierre(22)\t-->\tclassement : 2.6\t cotisation : à jour de cotisation\n",
      "Lucie(3200000)\t-->\tclassement : Non Classé\t cotisation : cotisation en retard\n"
     ]
    }
   ],
   "source": [
    "#Classement de l 'adhérent.e (on remarquera que sauf en cas d'ambiguité, les \n",
    "# parenthèses ne sont pas nécessaires pour appeler un tuple)\n",
    "print(\"fiche_adherent['Lucie',24][0] renvoie : \",fiche_adherent['Lucie',24][0])\n",
    "\n",
    "#Etat de la cotisation annuelle :\n",
    "print(\"\\r\") #Retour à la ligne\n",
    "print(\"Fichier des adhérent.e.s :\")\n",
    "for adherent,informations in fiche_adherent.items():\n",
    "    print(adherent[0]+'('+str(int(adherent[1]))+')'\n",
    "          +'\\t-->\\tclassement : '+str(informations[0])\n",
    "          +'\\t cotisation : '+informations[1])"
   ]
  },
  {
   "cell_type": "markdown",
   "metadata": {
    "hideCode": true,
    "hidePrompt": true
   },
   "source": [
    "<span class=\"attention\">Remarque</span>.<br/>Il y a une restriction notable : __on ne peut pas utiliser une liste pour définir une clef__ .<br/>\n",
    "Une <a href=\"https://wiki.python.org/moin/DictionaryKeys\">explication</a> sur le wiki : les clefs doivent être *hachable* c'est-à-dire que leur valeur permet de calculer un entier qui ne change pas au cours du temps. C'est à cette condition que l'accès à une valeur par la clef via une *table de hash* sera performant."
   ]
  },
  {
   "cell_type": "code",
   "execution_count": 17,
   "metadata": {
    "hideCode": true,
    "hidePrompt": true
   },
   "outputs": [
    {
     "ename": "TypeError",
     "evalue": "unhashable type: 'list'",
     "output_type": "error",
     "traceback": [
      "\u001b[0;31m---------------------------------------------------------------------------\u001b[0m",
      "\u001b[0;31mTypeError\u001b[0m                                 Traceback (most recent call last)",
      "\u001b[0;32m<ipython-input-17-e0ce2bea025f>\u001b[0m in \u001b[0;36m<module>\u001b[0;34m\u001b[0m\n\u001b[0;32m----> 1\u001b[0;31m \u001b[0mdico\u001b[0m\u001b[0;34m=\u001b[0m\u001b[0;34m{\u001b[0m\u001b[0;34m[\u001b[0m\u001b[0;36m1\u001b[0m\u001b[0;34m,\u001b[0m\u001b[0;36m2\u001b[0m\u001b[0;34m]\u001b[0m\u001b[0;34m:\u001b[0m\u001b[0;34m'a'\u001b[0m\u001b[0;34m}\u001b[0m\u001b[0;34m\u001b[0m\u001b[0;34m\u001b[0m\u001b[0m\n\u001b[0m",
      "\u001b[0;31mTypeError\u001b[0m: unhashable type: 'list'"
     ]
    }
   ],
   "source": [
    "dico={[1,2]:'a'}"
   ]
  },
  {
   "cell_type": "markdown",
   "metadata": {
    "hideCode": true,
    "hidePrompt": true
   },
   "source": [
    "## Modification de valeur"
   ]
  },
  {
   "cell_type": "markdown",
   "metadata": {
    "hideCode": true,
    "hidePrompt": true
   },
   "source": [
    "Les dictionnaires sont modifiables :"
   ]
  },
  {
   "cell_type": "code",
   "execution_count": 18,
   "metadata": {
    "hideCode": true,
    "hidePrompt": true
   },
   "outputs": [
    {
     "name": "stdout",
     "output_type": "stream",
     "text": [
      "15.0\n"
     ]
    }
   ],
   "source": [
    "#Si Lucie améliore sont classement on met à jour le dictionnaire :\n",
    "fiche_adherent[('Lucie',24)]=(15.0,'à jour de cotisation')\n",
    "#Classement de l 'adhérent.e\n",
    "print(fiche_adherent[('Lucie',24)][0])"
   ]
  },
  {
   "cell_type": "markdown",
   "metadata": {
    "hideCode": true,
    "hidePrompt": true
   },
   "source": [
    "Avec un dictionnaire, pour ajouter une paire clef/valeur, il suffit d'écrire :"
   ]
  },
  {
   "cell_type": "code",
   "execution_count": 19,
   "metadata": {
    "hideCode": true,
    "hidePrompt": true
   },
   "outputs": [
    {
     "name": "stdout",
     "output_type": "stream",
     "text": [
      "{1: 'Pierre', 2: 'Feuille', 3: 'Ciseaux', 4: 'Puits'}\n"
     ]
    }
   ],
   "source": [
    "#Si on veut rajouter le puits au shifumi, on rajoute une clef 4 et sa valeur \"Puits\" :\n",
    "shifumi[4]=\"Puits\"\n",
    "#La liste shifumi devient :\n",
    "print(shifumi)"
   ]
  },
  {
   "cell_type": "markdown",
   "metadata": {
    "hideCode": true,
    "hidePrompt": true
   },
   "source": [
    "Alors que l'équivalent avec une liste conduit à un message d'erreur <span class=\"inline_code\">index out of range</span> :"
   ]
  },
  {
   "cell_type": "code",
   "execution_count": 4,
   "metadata": {
    "hideCode": true,
    "hidePrompt": true
   },
   "outputs": [
    {
     "name": "stdout",
     "output_type": "stream",
     "text": [
      "fruit\n"
     ]
    }
   ],
   "source": [
    "liste_nature=['arbre','fruit','feuille']\n",
    "print(liste_nature[1])"
   ]
  },
  {
   "cell_type": "code",
   "execution_count": 5,
   "metadata": {
    "hideCode": true,
    "hidePrompt": true
   },
   "outputs": [
    {
     "ename": "IndexError",
     "evalue": "list assignment index out of range",
     "output_type": "error",
     "traceback": [
      "\u001b[0;31m---------------------------------------------------------------------------\u001b[0m",
      "\u001b[0;31mIndexError\u001b[0m                                Traceback (most recent call last)",
      "\u001b[0;32m<ipython-input-5-b6701030fb01>\u001b[0m in \u001b[0;36m<module>\u001b[0;34m\u001b[0m\n\u001b[1;32m      1\u001b[0m \u001b[0;31m#On voudrait ajouter un élément au rang 3 de la liste:\u001b[0m\u001b[0;34m\u001b[0m\u001b[0;34m\u001b[0m\u001b[0;34m\u001b[0m\u001b[0m\n\u001b[0;32m----> 2\u001b[0;31m \u001b[0mliste_nature\u001b[0m\u001b[0;34m[\u001b[0m\u001b[0;36m3\u001b[0m\u001b[0;34m]\u001b[0m\u001b[0;34m=\u001b[0m\u001b[0;34m'fleur'\u001b[0m\u001b[0;34m\u001b[0m\u001b[0;34m\u001b[0m\u001b[0m\n\u001b[0m",
      "\u001b[0;31mIndexError\u001b[0m: list assignment index out of range"
     ]
    }
   ],
   "source": [
    "#On voudrait rajouter un élément au rang suivant (3) de la liste en faisant :\n",
    "liste_nature[3]='fleur'"
   ]
  },
  {
   "cell_type": "code",
   "execution_count": 22,
   "metadata": {
    "hideCode": true,
    "hidePrompt": true
   },
   "outputs": [
    {
     "data": {
      "text/plain": [
       "['arbre', 'fruit', 'feuille', 'fleur']"
      ]
     },
     "execution_count": 22,
     "metadata": {},
     "output_type": "execute_result"
    }
   ],
   "source": [
    "#Il aurait fallu écrire :\n",
    "liste_nature.append('fleur')\n",
    "liste_nature"
   ]
  },
  {
   "cell_type": "markdown",
   "metadata": {
    "hideCode": true,
    "hidePrompt": true
   },
   "source": [
    "<p class=\"exercice\">**Travail demandé n°2** :<br/>\n",
    "1.Reprendre les donnees exif de la photo vue ci-dessus et modifier le Copyright en ajoutant ton nom.<br/>\n",
    "2.Afficher à nouveau les données et vérifier qu'elles ont bien été modifées."
   ]
  },
  {
   "cell_type": "markdown",
   "metadata": {
    "hideCode": true,
    "hidePrompt": true
   },
   "source": [
    "## Création en compréhension"
   ]
  },
  {
   "cell_type": "markdown",
   "metadata": {
    "hideCode": true,
    "hidePrompt": true
   },
   "source": [
    "A l'instar d'une liste, on peut créer un dictionnaire en compréhension !\n",
    "Dans l'exemple qui suit, on crée la table ascii des lettres majuscules :"
   ]
  },
  {
   "cell_type": "code",
   "execution_count": 23,
   "metadata": {
    "hideCode": true,
    "hidePrompt": true
   },
   "outputs": [
    {
     "name": "stdout",
     "output_type": "stream",
     "text": [
      "Dans la table ascii 65 correspond au caractère A\n",
      "Table ascii par lettre :\n",
      "{'A': 65, 'B': 66, 'C': 67, 'D': 68, 'E': 69, 'F': 70, 'G': 71, 'H': 72, 'I': 73, 'J': 74, 'K': 75, 'L': 76, 'M': 77, 'N': 78, 'O': 79, 'P': 80, 'Q': 81, 'R': 82, 'S': 83, 'T': 84, 'U': 85, 'V': 86, 'W': 87, 'X': 88, 'Y': 89, 'Z': 90}\n"
     ]
    }
   ],
   "source": [
    "# chr(n) renvoie le caractère ascii correspondant à un entier.\n",
    "print(\"Dans la table ascii 65 correspond au caractère\",chr(65))\n",
    "\n",
    "#On génère le dictionnaire associant l'entier à la lettre de l'alphabet majuscule :\n",
    "numero_table_ascii={chr(n): n for n in range(65, 65+26)}\n",
    "\n",
    "print(\"Table ascii par lettre :\")\n",
    "print(numero_table_ascii)"
   ]
  },
  {
   "cell_type": "code",
   "execution_count": 24,
   "metadata": {
    "hideCode": true,
    "hidePrompt": true
   },
   "outputs": [
    {
     "name": "stdout",
     "output_type": "stream",
     "text": [
      "L'entier correspondant au caractère a dans la table ascii est 97\n",
      "Table ascii par numéro :\n",
      "{97: 'a', 98: 'b', 99: 'c', 100: 'd', 101: 'e', 102: 'f', 103: 'g', 104: 'h', 105: 'i', 106: 'j', 107: 'k', 108: 'l', 109: 'm', 110: 'n', 111: 'o', 112: 'p', 113: 'q', 114: 'r', 115: 's', 116: 't', 117: 'u', 118: 'v', 119: 'w', 120: 'x', 121: 'y', 122: 'z'}\n"
     ]
    }
   ],
   "source": [
    "#Ou à l'inverse avec la fonction ord() qui renvoie l'entier correponsdant à un caractère ascii :\n",
    "print(\"L'entier correspondant au caractère a dans la table ascii est\",ord('a'))\n",
    "#On génère le dictionnaire associant la lettre de l'alphabet minuscule au nombre entier entre 97 et 122 :\n",
    "caractere_ascii={ord(i):i for i in \"abcdefghijklmnopqrstuvwxyz\"}\n",
    "print(\"Table ascii par numéro :\")\n",
    "print(caractere_ascii)"
   ]
  },
  {
   "cell_type": "markdown",
   "metadata": {
    "hideCode": true,
    "hidePrompt": true
   },
   "source": [
    "<p class=\"attention\"> Remarque : </p>"
   ]
  },
  {
   "cell_type": "code",
   "execution_count": 25,
   "metadata": {
    "hideCode": true,
    "hidePrompt": true
   },
   "outputs": [
    {
     "name": "stdout",
     "output_type": "stream",
     "text": [
      "l'alphabet est : abcdefghijklmnopqrstuvwxyz\n"
     ]
    }
   ],
   "source": [
    "#Pour avoir l'alphabet de façon savante, on peut utiliser le module string :\n",
    "import string\n",
    "print(\"l'alphabet est :\", string.ascii_lowercase)\n",
    "#Faire help('string') pour les autres attributs possibles de string"
   ]
  },
  {
   "cell_type": "markdown",
   "metadata": {
    "hideCode": true,
    "hidePrompt": true
   },
   "source": [
    "<p class=\"exercice\">**Travail demandé n°3** :<br/>\n",
    "On considère la chaîne de caractère (string) :<br/><br/>\n",
    "\" >La caméra volante nous pistait depuis notre entrée\n",
    "<br/>sur l'anneau périphérique. Dès la rampe, j'avais décon-<br/>necté le pilote et poussé le bobsleigh à deux cents -\"<br/><br/>\n",
    "(A. Damasio - La Zone du Dehors).<br/><br/>\n",
    "Construire un dictionnaire dont les clefs sont les caractères ascii utilisés dans la citation et les valeurs, le nombre d'occurences de chaque caractère (on ne prendra pas en compte les sauts de ligne).\n",
    "</p>"
   ]
  },
  {
   "cell_type": "markdown",
   "metadata": {
    "hideCode": true,
    "hidePrompt": true
   },
   "source": [
    "<html>\n",
    " <label class=\"solution\" for=\"exo1\">Solution cachée, ne pas cliquer </label>\n",
    "<input checked=\"checked\" id=\"exo1\" type=\"checkbox\" />\n",
    "<div class=\"exo\">\n",
    "<code>\n",
    "chaine = \" >La caméra volante nous pistait depuis notre entrée\\\n",
    "sur l'anneau périphérique. Dès la rampe, j'avais décon-\\\n",
    "necté le pilote et poussé le bobsleigh à deux cents -\"\n",
    "#On crée un dictinnaire vide :\n",
    "effectif=dict()\n",
    "\n",
    "#On parcourt la string chaine :\n",
    "for char in chaine:\n",
    "    if char in effectif:\n",
    "        effectif[char]+=1  #Si le caractère a déjà été rencontré on incrémente le nb d'occurences\n",
    "    else:\n",
    "        effectif[char]=1   #Sinon on crée une nouvelle clef avec une valeur initiale à 1\n",
    "\n",
    "print(effectif)\n",
    "#Résultat : \n",
    "\n",
    "#Une technique plus élaborée consiste à utiliser la méthode get(key,default)\n",
    "#qui renvoie la valeur associée à la clef *si la clef existe*, et la valeur default sinon.\n",
    "#Ce qui permet d'enlever le if/else :\n",
    "\n",
    "effectif_bis=dict()\n",
    "\n",
    "for char in chaine:\n",
    "    effectif_bis[char] = effectif_bis.get(char,0) + 1\n",
    "    \n",
    "print(\"On obtient bien la même chose ?...\",effectif==effectif_bis)\n",
    "</code></div>\n",
    "</html>"
   ]
  },
  {
   "cell_type": "code",
   "execution_count": 1,
   "metadata": {
    "hideCode": true,
    "hideOutput": false,
    "hidePrompt": true
   },
   "outputs": [],
   "source": [
    "#Après lecture, on peut copier-coller la solution ici pour la tester."
   ]
  },
  {
   "cell_type": "markdown",
   "metadata": {
    "hideCode": true,
    "hidePrompt": true
   },
   "source": [
    "<div class=\"exercice\">**Travail demandé n°4** : chiffrement d'un message.<br/>\n",
    "1.Créer un dictionnaire dans lequel chaque lettre de l'alphabet est une clef, et sa valeur est une lettre différente.<br/>\n",
    "2.Réécrire la string <span class='inline_code'>chaine</span> avec ce nouvel alphabet.<br/>\n",
    "3.A quelle condition le message est-il facilement déchiffrable ?<br/>\n",
    "4.Ecrire un programme de déchiffrement du message.</div>"
   ]
  },
  {
   "cell_type": "markdown",
   "metadata": {
    "hideCode": true,
    "hidePrompt": true
   },
   "source": [
    "<html>\n",
    " <label class=\"solution\" for=\"exo1\">Solution cachée, ne pas cliquer </label>\n",
    "<input checked=\"checked\" id=\"exo1\" type=\"checkbox\" />\n",
    "<div class=\"exo\">\n",
    "<code>\n",
    "Placer la solution ici, puis recliquer :-)\n",
    "</code></div>\n",
    "</html>"
   ]
  },
  {
   "cell_type": "code",
   "execution_count": 2,
   "metadata": {
    "hideCode": true,
    "hideOutput": false,
    "hidePrompt": true
   },
   "outputs": [],
   "source": [
    "#Après lecture, on peut copier-coller la solution ici pour la tester.\n"
   ]
  },
  {
   "cell_type": "markdown",
   "metadata": {
    "hideCode": true,
    "hidePrompt": true
   },
   "source": [
    "Quelques références :<br/>\n",
    "wikibook :https://fr.wikibooks.org/wiki/Programmation_Python/Dictionnaires reprend le livre de swinnen.<br/>\n",
    "Le Swinnen : https://inforef.be/swi/download/apprendre_python3_5.pdf<br/>\n",
    "Site python-django.dev sur le mode \"comment faire\" : https://python-django.dev/page-apprendre-dictionnaire-python<br/>\n",
    "Sur la table de hachage :https://fr.wikipedia.org/wiki/Table_de_hachage<br/>\n",
    "Compléments : https://thispointer.com/python-6-different-ways-to-create-dictionaries/"
   ]
  },
  {
   "cell_type": "markdown",
   "metadata": {
    "hideCode": true,
    "hidePrompt": true
   },
   "source": [
    "[La suite : projet de gestionnaire de mot de passe](./projet_mot_de_passe/Projet_mot_de_passe_eleve.ipynb)"
   ]
  }
 ],
 "metadata": {
  "hide_code_all_hidden": true,
  "kernelspec": {
   "display_name": "Python 3",
   "language": "python",
   "name": "python3"
  },
  "language_info": {
   "codemirror_mode": {
    "name": "ipython",
    "version": 3
   },
   "file_extension": ".py",
   "mimetype": "text/x-python",
   "name": "python",
   "nbconvert_exporter": "python",
   "pygments_lexer": "ipython3",
   "version": "3.6.9"
  }
 },
 "nbformat": 4,
 "nbformat_minor": 2
}
